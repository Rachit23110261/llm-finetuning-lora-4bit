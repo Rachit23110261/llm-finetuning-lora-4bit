{
  "cells": [
    {
      "cell_type": "markdown",
      "metadata": {
        "id": "view-in-github",
        "colab_type": "text"
      },
      "source": [
        "<a href=\"https://colab.research.google.com/github/Rachit23110261/llm-finetuning-lora-4bit/blob/main/DeepLearning_Homework_1_23110261.ipynb\" target=\"_parent\"><img src=\"https://colab.research.google.com/assets/colab-badge.svg\" alt=\"Open In Colab\"/></a>"
      ]
    },
    {
      "cell_type": "code",
      "execution_count": null,
      "metadata": {
        "id": "UN5wm8eJMH1n"
      },
      "outputs": [],
      "source": [
        "import torchvision\n",
        "import torchvision.transforms as transforms"
      ]
    },
    {
      "cell_type": "code",
      "execution_count": null,
      "metadata": {
        "id": "xZXNJUfPL8DB",
        "colab": {
          "base_uri": "https://localhost:8080/"
        },
        "outputId": "191f8e29-c355-4bf9-ba24-790cfa1dc604"
      },
      "outputs": [
        {
          "output_type": "stream",
          "name": "stdout",
          "text": [
            "Downloading http://fashion-mnist.s3-website.eu-central-1.amazonaws.com/train-images-idx3-ubyte.gz\n",
            "Downloading http://fashion-mnist.s3-website.eu-central-1.amazonaws.com/train-images-idx3-ubyte.gz to ./data/FashionMNIST/raw/train-images-idx3-ubyte.gz\n"
          ]
        },
        {
          "output_type": "stream",
          "name": "stderr",
          "text": [
            "100%|██████████| 26.4M/26.4M [00:02<00:00, 9.68MB/s]\n"
          ]
        },
        {
          "output_type": "stream",
          "name": "stdout",
          "text": [
            "Extracting ./data/FashionMNIST/raw/train-images-idx3-ubyte.gz to ./data/FashionMNIST/raw\n",
            "\n",
            "Downloading http://fashion-mnist.s3-website.eu-central-1.amazonaws.com/train-labels-idx1-ubyte.gz\n",
            "Downloading http://fashion-mnist.s3-website.eu-central-1.amazonaws.com/train-labels-idx1-ubyte.gz to ./data/FashionMNIST/raw/train-labels-idx1-ubyte.gz\n"
          ]
        },
        {
          "output_type": "stream",
          "name": "stderr",
          "text": [
            "100%|██████████| 29.5k/29.5k [00:00<00:00, 165kB/s]\n"
          ]
        },
        {
          "output_type": "stream",
          "name": "stdout",
          "text": [
            "Extracting ./data/FashionMNIST/raw/train-labels-idx1-ubyte.gz to ./data/FashionMNIST/raw\n",
            "\n",
            "Downloading http://fashion-mnist.s3-website.eu-central-1.amazonaws.com/t10k-images-idx3-ubyte.gz\n",
            "Downloading http://fashion-mnist.s3-website.eu-central-1.amazonaws.com/t10k-images-idx3-ubyte.gz to ./data/FashionMNIST/raw/t10k-images-idx3-ubyte.gz\n"
          ]
        },
        {
          "output_type": "stream",
          "name": "stderr",
          "text": [
            "100%|██████████| 4.42M/4.42M [00:01<00:00, 3.07MB/s]\n"
          ]
        },
        {
          "output_type": "stream",
          "name": "stdout",
          "text": [
            "Extracting ./data/FashionMNIST/raw/t10k-images-idx3-ubyte.gz to ./data/FashionMNIST/raw\n",
            "\n",
            "Downloading http://fashion-mnist.s3-website.eu-central-1.amazonaws.com/t10k-labels-idx1-ubyte.gz\n",
            "Downloading http://fashion-mnist.s3-website.eu-central-1.amazonaws.com/t10k-labels-idx1-ubyte.gz to ./data/FashionMNIST/raw/t10k-labels-idx1-ubyte.gz\n"
          ]
        },
        {
          "output_type": "stream",
          "name": "stderr",
          "text": [
            "100%|██████████| 5.15k/5.15k [00:00<00:00, 14.3MB/s]"
          ]
        },
        {
          "output_type": "stream",
          "name": "stdout",
          "text": [
            "Extracting ./data/FashionMNIST/raw/t10k-labels-idx1-ubyte.gz to ./data/FashionMNIST/raw\n",
            "\n"
          ]
        },
        {
          "output_type": "stream",
          "name": "stderr",
          "text": [
            "\n"
          ]
        }
      ],
      "source": [
        "train_set = torchvision.datasets.FashionMNIST(\"./data\", download=True, transform=\n",
        "transforms.Compose([transforms.ToTensor()]))\n",
        "test_set = torchvision.datasets.FashionMNIST(\"./data\", download=True, train=False, transform=\n",
        "transforms.Compose([transforms.ToTensor()]))\n"
      ]
    },
    {
      "cell_type": "code",
      "execution_count": null,
      "metadata": {
        "id": "zX9NBfxRNA8R"
      },
      "outputs": [],
      "source": [
        "import numpy as np"
      ]
    },
    {
      "cell_type": "code",
      "execution_count": null,
      "metadata": {
        "colab": {
          "base_uri": "https://localhost:8080/"
        },
        "id": "Qzh6EQ1nMbcW",
        "outputId": "3346bbf3-c282-48c4-e2ce-757dc125b3bd"
      },
      "outputs": [
        {
          "output_type": "stream",
          "name": "stdout",
          "text": [
            "(60000, 28, 28) (60000,)\n",
            "(10000, 28, 28) (10000,)\n"
          ]
        }
      ],
      "source": [
        "train_images = np.array([np.array(img[0]) for img in train_set])\n",
        "train_labels = np.array([img[1] for img in train_set])\n",
        "\n",
        "test_images = np.array([np.array(img[0]) for img in test_set])\n",
        "test_labels = np.array([img[1] for img in test_set])\n",
        "\n",
        "train_images = train_images.squeeze()\n",
        "test_images = test_images.squeeze()\n",
        "\n",
        "print(train_images.shape, train_labels.shape)\n",
        "print(test_images.shape, test_labels.shape)\n",
        "\n",
        "train_images=train_images.reshape(60000,784)\n",
        "test_images=test_images.reshape(10000,784)\n",
        "\n",
        "train_labels_one_hot = np.zeros((train_labels.shape[0], 10))\n",
        "train_labels_one_hot[np.arange(train_labels.shape[0]), train_labels] = 1\n",
        "\n",
        "train_labels= train_labels_one_hot"
      ]
    },
    {
      "cell_type": "code",
      "execution_count": null,
      "metadata": {
        "colab": {
          "base_uri": "https://localhost:8080/"
        },
        "id": "sJpltP38NKCR",
        "outputId": "edfd6698-156d-415b-cc25-5d712013b45b"
      },
      "outputs": [
        {
          "output_type": "stream",
          "name": "stdout",
          "text": [
            "4\n",
            "2.3025059537082977\n"
          ]
        }
      ],
      "source": [
        "def sigmoid(x):\n",
        "    return 1 / (1 + np.exp(-x))\n",
        "def sigmoid_derivative(x):\n",
        "    return x * (1 - x)\n",
        "def relu(x):\n",
        "    return np.maximum(0, x)\n",
        "def relu_derivative(x):\n",
        "    return (x > 0).astype(float)\n",
        "def softmax(x):\n",
        "    exp_x = np.exp(x - np.max(x, axis=1, keepdims=True))  # Prevent overflow\n",
        "    return exp_x / np.sum(exp_x, axis=1, keepdims=True)\n",
        "\n",
        "def initialize_parameters(input_size, hidden_size, output_size, initialization=\"random\"):\n",
        "    np.random.seed(42)  # To make same random weights for same training\n",
        "    weights = {}\n",
        "\n",
        "    if initialization == \"xavier\":\n",
        "        weights[\"W1\"] = np.random.randn(input_size, hidden_size) * np.sqrt(1.0 / input_size)\n",
        "        weights[\"b1\"] = np.zeros((1, hidden_size))\n",
        "        weights[\"W2\"] = np.random.randn(hidden_size, output_size) * np.sqrt(1.0 / hidden_size)\n",
        "        weights[\"b2\"] = np.zeros((1, output_size))\n",
        "\n",
        "    elif initialization == \"he\":  # He Initialization for ReLU\n",
        "        weights[\"W1\"] = np.random.randn(input_size, hidden_size) * np.sqrt(2.0 / input_size)\n",
        "        weights[\"b1\"] = np.zeros((1, hidden_size))\n",
        "        weights[\"W2\"] = np.random.randn(hidden_size, output_size) * np.sqrt(2.0 / hidden_size)\n",
        "        weights[\"b2\"] = np.zeros((1, output_size))\n",
        "\n",
        "    else:\n",
        "        weights[\"W1\"] = np.random.randn(input_size, hidden_size) * 0.01\n",
        "        weights[\"b1\"] = np.zeros((1, hidden_size))\n",
        "        weights[\"W2\"] = np.random.randn(hidden_size, output_size) * 0.01\n",
        "        weights[\"b2\"] = np.zeros((1, output_size))\n",
        "\n",
        "    return weights\n",
        "\n",
        "def forward_propagation(X, weights):\n",
        "    Z1 = np.dot(X, weights[\"W1\"]) + weights[\"b1\"]\n",
        "    A1 = relu(Z1)\n",
        "    Z2 = np.dot(A1, weights[\"W2\"]) + weights[\"b2\"]\n",
        "    A2 = softmax(Z2)\n",
        "    cache = {\"Z1\": Z1, \"A1\": A1, \"Z2\": Z2, \"A2\": A2}\n",
        "    return A2, cache\n",
        "\n",
        "def compute_loss_cross_entropy(y_true, y_pred, weights, l1_lambda=0.0, l2_lambda=0.0):\n",
        "    m = y_true.shape[0]\n",
        "    loss = -np.mean(np.sum(y_true * np.log(y_pred + 1e-8), axis=1))\n",
        "    l1_loss = (l1_lambda / m) * (np.sum(np.abs(weights[\"W1\"])) + np.sum(np.abs(weights[\"W2\"])))\n",
        "    l2_loss = (l2_lambda / (2 * m)) * (np.sum(weights[\"W1\"]**2) + np.sum(weights[\"W2\"]**2))\n",
        "    total_loss = loss + l1_loss + l2_loss\n",
        "    return total_loss\n",
        "\n",
        "def compute_loss_mean_square(y_true, y_pred, l1_lambda=0.0, l2_lambda=0.0):\n",
        "    m = y_true.shape[0]\n",
        "    loss = np.sum((y_true - y_pred) ** 2) / m\n",
        "    l1_loss = (l1_lambda / m) * (np.sum(np.abs(weights[\"W1\"])) + np.sum(np.abs(weights[\"W2\"])))\n",
        "    l2_loss = (l2_lambda / (2 * m)) * (np.sum(weights[\"W1\"]**2) + np.sum(weights[\"W2\"]**2))\n",
        "    return loss\n",
        "\n",
        "input_size= train_images.shape[1]\n",
        "hidden_size = 128\n",
        "output_size = 10\n",
        "weights = initialize_parameters(input_size, hidden_size, output_size)\n",
        "print(len(weights))\n",
        "A2, cache = forward_propagation(train_images, weights)\n",
        "loss = compute_loss_cross_entropy(train_labels, A2, weights)\n",
        "print(loss)"
      ]
    },
    {
      "cell_type": "code",
      "execution_count": null,
      "metadata": {
        "id": "sqzheZoCRdB0"
      },
      "outputs": [],
      "source": [
        "def backward_propagation(X, y_true, weights, cache, learning_rate=0.01, l1_lambda=0.0, l2_lambda=0.0):\n",
        "    m = X.shape[0]\n",
        "    gradients={}\n",
        "    dZ2 = cache[\"A2\"] - y_true  # Softmax + Cross Entropy Loss derivative\n",
        "    dW2 = (np.dot(cache[\"A1\"].T, dZ2) / m) + (l1_lambda * np.sign(weights[\"W2\"]) / m) + (l2_lambda * weights[\"W2\"] / m)\n",
        "    db2 = np.sum(dZ2, axis=0, keepdims=True) / m\n",
        "    dA1 = np.dot(dZ2, weights[\"W2\"].T)\n",
        "    dZ1 = dA1 * relu_derivative(cache[\"Z1\"])\n",
        "    dW1 = (np.dot(X.T, dZ1) / m) + (l1_lambda * np.sign(weights[\"W1\"]) / m) + (l2_lambda * weights[\"W1\"] / m)\n",
        "    db1 = np.sum(dZ1, axis=0, keepdims=True) / m\n",
        "    gradients[\"W1\"] = dW1\n",
        "    gradients[\"b1\"] = db1\n",
        "    gradients[\"W2\"] = dW2\n",
        "    gradients[\"b2\"] = db2\n",
        "\n",
        "    return gradients\n"
      ]
    },
    {
      "cell_type": "code",
      "execution_count": null,
      "metadata": {
        "id": "uKiXohqegxNN"
      },
      "outputs": [],
      "source": [
        "def gradient_descent(X, y, hidden_size, learning_rate=0.01, epochs=100, batch_size=1, alpha=0.9, init_form='random', l1_lambda=0.0, l2_lambda=0.0):\n",
        "    input_size = X.shape[1]\n",
        "    output_size = 10\n",
        "    weights = initialize_parameters(input_size, hidden_size, output_size, init_form)\n",
        "\n",
        "    momentum = {key: np.zeros_like(weights[key]) for key in weights}  # Initialize momentum\n",
        "\n",
        "    m = X.shape[0]\n",
        "\n",
        "    for epoch in range(epochs):\n",
        "\n",
        "        indices = np.arange(m)\n",
        "        np.random.shuffle(indices)\n",
        "        X_shuffled = X[indices]\n",
        "        y_shuffled = y[indices]\n",
        "\n",
        "        for i in range(0, m, batch_size):\n",
        "            X_batch = X_shuffled[i:i+batch_size]\n",
        "            y_batch = y_shuffled[i:i+batch_size]\n",
        "\n",
        "            A2, cache = forward_propagation(X_batch, weights)\n",
        "            gradients = backward_propagation(X_batch, y_batch, weights, cache, learning_rate, l1_lambda, l2_lambda)\n",
        "\n",
        "            # Apply Momentum Update Correctly\n",
        "            for key in [\"W1\", \"b1\", \"W2\", \"b2\"]:\n",
        "                momentum[key] = alpha * momentum[key] - learning_rate * gradients[key]  # Update momentum\n",
        "                weights[key] += momentum[key]  # Apply update\n",
        "\n",
        "        A2, _ = forward_propagation(X, weights)\n",
        "        loss = compute_loss_cross_entropy(y, A2, weights)\n",
        "\n",
        "        if epoch:\n",
        "            print(f\"Epoch {epoch}, Loss: {loss}\")\n",
        "\n",
        "    return weights\n"
      ]
    },
    {
      "cell_type": "code",
      "execution_count": null,
      "metadata": {
        "colab": {
          "base_uri": "https://localhost:8080/"
        },
        "id": "uWOK5i2tjPyg",
        "outputId": "a7813b0d-c942-4706-efcb-91f8fa0928ca"
      },
      "outputs": [
        {
          "output_type": "stream",
          "name": "stdout",
          "text": [
            "\n",
            "Training with params: (10, 0.5, 64, 0.0001, 64, 'sgd', 'random')\n",
            "Epoch 1, Loss: 1.8965093619865747\n",
            "Epoch 2, Loss: 1.8493984406766617\n",
            "Epoch 3, Loss: 1.823434510716316\n",
            "Epoch 4, Loss: 1.8028555989068993\n",
            "Epoch 5, Loss: 1.7933723369974415\n",
            "Epoch 6, Loss: 1.7838828474607096\n",
            "Epoch 7, Loss: 1.7755649109757696\n",
            "Epoch 8, Loss: 1.7708273999856605\n",
            "Epoch 9, Loss: 1.7661571092870272\n",
            "Validation Accuracy: 47.38%\n",
            "\n",
            "Training with params: (10, 0.5, 64, 0.0001, 64, 'sgd', 'xavier')\n",
            "Epoch 1, Loss: 1.8098553519041032\n",
            "Epoch 2, Loss: 1.8027554552103124\n",
            "Epoch 3, Loss: 1.7936950742652984\n",
            "Epoch 4, Loss: 1.7828603405222618\n",
            "Epoch 5, Loss: 1.7789935045752967\n",
            "Epoch 6, Loss: 1.7727798787923155\n",
            "Epoch 7, Loss: 1.7660778076934387\n",
            "Epoch 8, Loss: 1.7631662397184613\n",
            "Epoch 9, Loss: 1.7595909640856136\n",
            "Validation Accuracy: 47.93%\n",
            "\n",
            "Training with params: (10, 0.5, 64, 0.0001, 64, 'momentum', 'random')\n",
            "Epoch 1, Loss: 2.2365555419422045\n",
            "Epoch 2, Loss: 2.1046099019276876\n",
            "Epoch 3, Loss: 1.8724679587292743\n",
            "Epoch 4, Loss: 1.630422521489988\n",
            "Epoch 5, Loss: 1.4549205187294394\n",
            "Epoch 6, Loss: 1.328042439065231\n",
            "Epoch 7, Loss: 1.2286723374042008\n",
            "Epoch 8, Loss: 1.1473942073928216\n",
            "Epoch 9, Loss: 1.0803420386961364\n",
            "Validation Accuracy: 61.97%\n",
            "\n",
            "Training with params: (10, 0.5, 64, 0.0001, 64, 'momentum', 'xavier')\n",
            "Epoch 1, Loss: 1.3403410278347527\n",
            "Epoch 2, Loss: 1.1152630010212634\n",
            "Epoch 3, Loss: 0.9891532602394492\n",
            "Epoch 4, Loss: 0.9104286080044464\n",
            "Epoch 5, Loss: 0.855680463604467\n",
            "Epoch 6, Loss: 0.8152378303165068\n",
            "Epoch 7, Loss: 0.7837753757583696\n",
            "Epoch 8, Loss: 0.7574474724801684\n",
            "Epoch 9, Loss: 0.7355059258877678\n",
            "Validation Accuracy: 74.80%\n",
            "\n",
            "Training with params: (10, 0.5, 64, 0.0001, 128, 'sgd', 'random')\n",
            "Epoch 1, Loss: 1.8750987337505698\n",
            "Epoch 2, Loss: 1.8364291887234878\n",
            "Epoch 3, Loss: 1.8136713337080261\n",
            "Epoch 4, Loss: 1.7969778108814176\n",
            "Epoch 5, Loss: 1.7863703552485677\n",
            "Epoch 6, Loss: 1.7784325986053047\n",
            "Epoch 7, Loss: 1.7717040380700517\n",
            "Epoch 8, Loss: 1.7679970089317487\n",
            "Epoch 9, Loss: 1.7613648691975605\n",
            "Validation Accuracy: 50.23%\n",
            "\n",
            "Training with params: (10, 0.5, 64, 0.0001, 128, 'sgd', 'xavier')\n",
            "Epoch 1, Loss: 1.8113633848492836\n",
            "Epoch 2, Loss: 1.803650843445366\n",
            "Epoch 3, Loss: 1.793796458777404\n",
            "Epoch 4, Loss: 1.7840980526279369\n",
            "Epoch 5, Loss: 1.7775056446570479\n",
            "Epoch 6, Loss: 1.7717851191802085\n",
            "Epoch 7, Loss: 1.7665852064810104\n",
            "Epoch 8, Loss: 1.7639157682660136\n",
            "Epoch 9, Loss: 1.7577804901137482\n",
            "Validation Accuracy: 50.50%\n",
            "\n",
            "Training with params: (10, 0.5, 64, 0.0001, 128, 'momentum', 'random')\n",
            "Epoch 1, Loss: 2.1736324579702972\n",
            "Epoch 2, Loss: 1.9604814333682166\n",
            "Epoch 3, Loss: 1.6841499035141276\n",
            "Epoch 4, Loss: 1.4669513872752855\n",
            "Epoch 5, Loss: 1.3114881573320405\n",
            "Epoch 6, Loss: 1.1958122214157167\n",
            "Epoch 7, Loss: 1.107607566262523\n",
            "Epoch 8, Loss: 1.03909525221378\n",
            "Epoch 9, Loss: 0.9848345987859383\n",
            "Validation Accuracy: 64.97%\n",
            "\n",
            "Training with params: (10, 0.5, 64, 0.0001, 128, 'momentum', 'xavier')\n",
            "Epoch 1, Loss: 1.2098522711558946\n",
            "Epoch 2, Loss: 1.0294037236833378\n",
            "Epoch 3, Loss: 0.9286527109341857\n",
            "Epoch 4, Loss: 0.8642468978037168\n",
            "Epoch 5, Loss: 0.8191453807855587\n",
            "Epoch 6, Loss: 0.7842007883892896\n",
            "Epoch 7, Loss: 0.7563744649937867\n",
            "Epoch 8, Loss: 0.7334647725600468\n",
            "Epoch 9, Loss: 0.7139610052607568\n",
            "Validation Accuracy: 75.87%\n",
            "\n",
            "Top 3 Hyperparameter Combinations:\n",
            "1. Accuracy: 75.87% | Params: (10, 0.5, 64, 0.0001, 128, 'momentum', 'xavier')\n",
            "2. Accuracy: 74.80% | Params: (10, 0.5, 64, 0.0001, 64, 'momentum', 'xavier')\n",
            "3. Accuracy: 64.97% | Params: (10, 0.5, 64, 0.0001, 128, 'momentum', 'random')\n",
            "\n",
            "Best Model Test Accuracy: 75.24%\n"
          ]
        }
      ],
      "source": [
        "from itertools import product\n",
        "from sklearn.model_selection import train_test_split\n",
        "import heapq\n",
        "def predict(X, weights):\n",
        "    A2, _ = forward_propagation(X, weights)\n",
        "    return np.argmax(A2, axis=1)\n",
        "def compute_accuracy(y_true, y_pred):\n",
        "    return np.mean(y_true == y_pred) * 100\n",
        "\n",
        "\n",
        "def grid_search(X, y, test_X, test_y):\n",
        "\n",
        "    param_grid = list(product(\n",
        "        [10],\n",
        "        [0.5],\n",
        "        [64],\n",
        "        [1e-4],\n",
        "        [64, 128],\n",
        "        [\"sgd\", \"momentum\"],\n",
        "        [\"random\", \"xavier\"]\n",
        "    ))\n",
        "\n",
        "    best_models = []\n",
        "\n",
        "    train_X, val_X, train_y, val_y = train_test_split(X, y, test_size=0.1, random_state=42)\n",
        "\n",
        "    for params in param_grid:\n",
        "        epochs, l2_lambda, batch_size, learning_rate, hidden_size, optimizer, weight_init = params\n",
        "        print(f\"\\nTraining with params: {params}\")\n",
        "\n",
        "        weights = gradient_descent(train_X, train_y, hidden_size=hidden_size, learning_rate=learning_rate,\n",
        "                                   epochs=epochs, batch_size=batch_size if optimizer== \"momentum\" else 1, alpha=0.9 if optimizer == \"momentum\" else 0.0,\n",
        "                                   init_form=weight_init, l1_lambda=0.0, l2_lambda=l2_lambda)\n",
        "\n",
        "        val_pred = predict(val_X, weights)\n",
        "        val_acc = compute_accuracy(np.argmax(val_y, axis=1), val_pred)\n",
        "        print(f\"Validation Accuracy: {val_acc:.2f}%\")\n",
        "\n",
        "        if len(best_models) < 3:\n",
        "            heapq.heappush(best_models, (val_acc, params, weights))\n",
        "        else:\n",
        "            heapq.heappushpop(best_models, (val_acc, params, weights))  # Keep top 3\n",
        "\n",
        "    best_models.sort(reverse=True, key=lambda x: x[0])\n",
        "\n",
        "    print(\"\\nTop 3 Hyperparameter Combinations:\")\n",
        "    for rank, (acc, params, _) in enumerate(best_models, 1):\n",
        "        print(f\"{rank}. Accuracy: {acc:.2f}% | Params: {params}\")\n",
        "\n",
        "    best_acc, best_params, best_weights = best_models[0]\n",
        "    test_pred = predict(test_X, best_weights)\n",
        "    test_acc = compute_accuracy(test_y, test_pred)\n",
        "\n",
        "    print(f\"\\nBest Model Test Accuracy: {test_acc:.2f}%\")\n",
        "\n",
        "    return best_models\n",
        "top_models = grid_search(train_images, train_labels_one_hot, test_images, test_labels)\n"
      ]
    },
    {
      "cell_type": "code",
      "source": [
        "c=0\n",
        "best_y_pred=np.zeros(test_labels.shape)\n",
        "best_accuracy=0\n",
        "for i in top_models:\n",
        "  best_acc, best_params, best_weights = i\n",
        "  test_pred = predict(test_images, best_weights)\n",
        "  test_acc = compute_accuracy(test_labels, test_pred)\n",
        "  if test_acc>best_accuracy:\n",
        "    best_accuracy=test_acc\n",
        "    best_y_pred=test_pred\n",
        "  c+=1\n",
        "  print(f\"\\nFinal Test Accuracy with Model {c} :{test_acc:.2f}%\")\n"
      ],
      "metadata": {
        "colab": {
          "base_uri": "https://localhost:8080/"
        },
        "id": "P0jh0_mgI5qo",
        "outputId": "b157baca-4acd-408e-9c77-2659dda20101"
      },
      "execution_count": null,
      "outputs": [
        {
          "output_type": "stream",
          "name": "stdout",
          "text": [
            "\n",
            "Final Test Accuracy with Model 1 :75.24%\n",
            "\n",
            "Final Test Accuracy with Model 2 :74.27%\n",
            "\n",
            "Final Test Accuracy with Model 3 :64.65%\n"
          ]
        }
      ]
    },
    {
      "cell_type": "code",
      "source": [
        "from sklearn.metrics import confusion_matrix\n",
        "import seaborn as sns\n",
        "import matplotlib.pyplot as plt\n",
        "cm = confusion_matrix(test_labels, best_y_pred)\n",
        "class_names = [\"T-shirt/top\", \"Trouser\", \"Pullover\", \"Dress\", \"Coat\",\n",
        "               \"Sandal\", \"Shirt\", \"Sneaker\", \"Bag\", \"Ankle boot\"]\n",
        "\n",
        "plt.figure(figsize=(10, 7))\n",
        "sns.heatmap(cm, annot=True, fmt='d', cmap='Blues', xticklabels=class_names, yticklabels=class_names)\n",
        "plt.xlabel(\"Predicted Label\")\n",
        "plt.ylabel(\"True Label\")\n",
        "plt.title(\"Confusion Matrix for Best Model\")\n",
        "plt.show()\n"
      ],
      "metadata": {
        "colab": {
          "base_uri": "https://localhost:8080/",
          "height": 641
        },
        "id": "DnpsrDzY1EyY",
        "outputId": "85e47feb-cf50-416f-d80f-eb18c224f953"
      },
      "execution_count": null,
      "outputs": [
        {
          "output_type": "display_data",
          "data": {
            "text/plain": [
              "<Figure size 1000x700 with 2 Axes>"
            ],
            "image/png": "[encoded data removed]"
          },
          "metadata": {}
        }
      ]
    },
    {
      "cell_type": "markdown",
      "source": [
        "### Question 2\n",
        "We are given the function:  \n",
        "\n",
        "$f(x) = 1 + \\tanh\\left(\\frac{wx + b}{2}\\right)$  \n",
        "\n",
        "The loss function is:  \n",
        "\n",
        "$L(x, y) = \\frac{1}{2} (y - f(x))^2$  \n",
        "\n",
        "We need to compute $ \\frac{\\partial L}{\\partial w} $ and $ \\frac{\\partial L}{\\partial b} $.  \n",
        "\n",
        "### Step 1: Compute $ \\frac{\\partial L}{\\partial f} $  \n",
        "\n",
        "$\\frac{\\partial L}{\\partial f} = - (y - f(x))$  \n",
        "\n",
        "### Step 2: Compute $ \\frac{\\partial f}{\\partial z} $, where $ z = \\frac{wx + b}{2} $  \n",
        "\n",
        "Since $ f(x) = 1 + \\tanh(z) $, we differentiate:  \n",
        "\n",
        "$\\frac{\\partial f}{\\partial z} = \\text{sech}^2(z)$  \n",
        "\n",
        "Since:  \n",
        "\n",
        "$\\text{sech}^2(z) = 1 - \\tanh^2(z)$  \n",
        "\n",
        "we get:  \n",
        "\n",
        "$\\frac{\\partial f}{\\partial z} = 1 - \\tanh^2(z)$  \n",
        "\n",
        "### Step 3: Compute $ \\frac{\\partial z}{\\partial w} $ and $ \\frac{\\partial z}{\\partial b} $  \n",
        "\n",
        "$z = \\frac{wx + b}{2}$  \n",
        "\n",
        "$\\frac{\\partial z}{\\partial w} = \\frac{x}{2}, \\quad \\frac{\\partial z}{\\partial b} = \\frac{1}{2}$  \n",
        "\n",
        "### Step 4: Compute $ \\frac{\\partial L}{\\partial w} $  \n",
        "\n",
        "Using the chain rule:  \n",
        "\n",
        "$\\frac{\\partial L}{\\partial w} = \\frac{\\partial L}{\\partial f} \\cdot \\frac{\\partial f}{\\partial z} \\cdot \\frac{\\partial z}{\\partial w}$  \n",
        "\n",
        "Substituting values:  \n",
        "\n",
        "$\\frac{\\partial L}{\\partial w} = - (y - f(x)) \\cdot (1 - \\tanh^2(z)) \\cdot \\frac{x}{2}$  \n",
        "\n",
        "$\\frac{\\partial L}{\\partial w} = - (y - f(x)) \\cdot \\left(1 - \\tanh^2\\left(\\frac{wx + b}{2}\\right)\\right) \\cdot \\frac{x}{2}$  \n",
        "\n",
        "### Step 5: Compute $ \\frac{\\partial L}{\\partial b} $  \n",
        "\n",
        "$\\frac{\\partial L}{\\partial b} = \\frac{\\partial L}{\\partial f} \\cdot \\frac{\\partial f}{\\partial z} \\cdot \\frac{\\partial z}{\\partial b}$  \n",
        "\n",
        "Substituting values:  \n",
        "\n",
        "$\\frac{\\partial L}{\\partial b} = - (y - f(x)) \\cdot (1 - \\tanh^2(z)) \\cdot \\frac{1}{2}$  \n",
        "\n",
        "$\\frac{\\partial L}{\\partial b} = - (y - f(x)) \\cdot \\left(1 - \\tanh^2\\left(\\frac{wx + b}{2}\\right)\\right) \\cdot \\frac{1}{2}$  \n",
        "\n",
        "### Final Answer:  \n",
        "\n",
        "$\\frac{\\partial L}{\\partial w} = - (y - f(x)) \\cdot \\left(1 - \\tanh^2\\left(\\frac{wx + b}{2}\\right)\\right) \\cdot \\frac{x}{2}$  \n",
        "\n",
        "$\\frac{\\partial L}{\\partial b} = - (y - f(x)) \\cdot \\left(1 - \\tanh^2\\left(\\frac{wx + b}{2}\\right)\\right) \\cdot \\frac{1}{2}$  \n"
      ],
      "metadata": {
        "id": "MDwg3L7CYAeW"
      }
    },
    {
      "cell_type": "markdown",
      "source": [
        "## Question 3\n",
        "Receptive field of a layer in convulational network is the number of nodes by which its value is affected in layer 0 of the network:\n",
        "\n",
        "for layer 0 the receptive field is 1 as no convolutional layer is applied.\n",
        "\n",
        "for each node in layer 1 its value is affected by k nodes in layer 0 where k is the kernel size.\n",
        "\n",
        "So, its receptive field value is k which is 7.\n",
        "\n",
        "for each node in layer 2 its value is affected by k nodes in layer 1 and each of the k nodes is affected by k nodes of layer 0. But from every k of them k-1 overlap, So the total must be k+ k-1 nodes in layer 0 which affect a single node in layer 2.\n",
        "\n",
        "So, its receptive field value is 2k-1 which is 13.\n",
        "\n",
        "Similiarily for layer 3, k nodes from layer 2 affect one node of layer 3, So, 2k-1 nodes would affect from layer 1 and  (k+ (2k-1) - 1) nodes would affect from layer 0.\n",
        "\n",
        "So, receptive field of third layer is 3k-2 =19 for k==7\n"
      ],
      "metadata": {
        "id": "Mcb95Q5t6Uag"
      }
    },
    {
      "cell_type": "markdown",
      "source": [
        "The general formula for a 1D dilated convolution is:  \n",
        "\n",
        "$$\n",
        "y(i) = \\sum_{j=0}^{k-1} x(i + j \\cdot d) \\cdot w(j)\n",
        "$$  \n",
        "where:  \n",
        "- $ x(i) $ is the input signal,  \n",
        "- $ w(j) $ is the filter/kernel,  \n",
        "- $ j $ iterates over the kernel size,  \n",
        "- $ d $ is the dilation rate, which increases the spacing between sampled values,  \n",
        "- $ s $ is the stride, determining how the filter moves across the input.  \n",
        "\n",
        "### **Step 2: Expanding the Formula for Given Values**  \n",
        "Since we have **$ k = 7 $**, **$ d = 3 $**, and **$ s = 3 $**, the convolution at position $ i $ becomes:  \n",
        "\n",
        "$$\n",
        "y(i) = x(i) \\cdot w(0) + x(i + 3) \\cdot w(1) + x(i + 6) \\cdot w(2) + x(i + 9) \\cdot w(3) + x(i + 12) \\cdot w(4) + x(i + 15) \\cdot w(5) + x(i + 18) \\cdot w(6)\n",
        "$$  \n",
        "\n",
        "where each $ x $ term is spaced by **$ d = 3 $**. The convolution moves with a **stride of $ 3 $**, meaning that the next position would be **$ i + 3 $**.\n",
        "\n",
        "\n",
        "\n",
        "\n"
      ],
      "metadata": {
        "id": "eaEAPNYYtnQz"
      }
    },
    {
      "cell_type": "code",
      "source": [],
      "metadata": {
        "id": "I4HIsV7BtnEJ"
      },
      "execution_count": null,
      "outputs": []
    },
    {
      "cell_type": "code",
      "source": [],
      "metadata": {
        "id": "2kIdrfi6YAAW"
      },
      "execution_count": null,
      "outputs": []
    },
    {
      "cell_type": "code",
      "source": [],
      "metadata": {
        "id": "eLXtecifAx9o"
      },
      "execution_count": null,
      "outputs": []
    }
  ],
  "metadata": {
    "colab": {
      "provenance": [],
      "gpuType": "T4",
      "authorship_tag": "ABX9TyOADebVXUTeiUKeMdwIKsPm",
      "include_colab_link": true
    },
    "kernelspec": {
      "display_name": "Python 3",
      "name": "python3"
    },
    "language_info": {
      "name": "python"
    },
    "accelerator": "GPU"
  },
  "nbformat": 4,
  "nbformat_minor": 0
}